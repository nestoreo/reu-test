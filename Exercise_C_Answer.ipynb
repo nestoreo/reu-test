{
 "cells": [
  {
   "cell_type": "markdown",
   "metadata": {},
   "source": [
    "# REU-CFS: Day 1, Ex C.\n",
    "\n",
    "_Burton Rosenberg, University of Miami_\n",
    "\n",
    "_Monday, 17 May 2021_\n",
    "\n",
    "------\n",
    "\n",
    "This is a first program in Python. Examples are given then an exercise.\n",
    "\n",
    "------\n"
   ]
  },
  {
   "cell_type": "markdown",
   "metadata": {},
   "source": [
    "## Example C\n",
    "\n",
    "This exercise introduces recursion. The reference to car and cdr is from a very old language, Lisp. \n",
    "\n",
    "Lisp made extensive use of lists and recursion. For very mathy reasons, it made recursion the basis of all programming.\n",
    "\n",
    "The list model was a chain of boxes. Each box had two compartments. \n",
    "\n",
    "1. The first, named _car_ pointed to data.\n",
    "1. The second, name _cdr_ pointed to the next box.\n",
    "1. A special NIL value was in the last _cdr_ to show the end of the list.\n",
    "\n",
    "<pre>\n",
    "+-----|-----+     +-----|-----+     +-----|-----+\n",
    "| car | cdr-+---->| car | cdr-+---->| car |  /  |\n",
    "+-----|-----+     +-----|-----+     +-----|-----+\n",
    "</pre>"
   ]
  },
  {
   "cell_type": "code",
   "execution_count": 11,
   "metadata": {},
   "outputs": [
    {
     "name": "stdout",
     "output_type": "stream",
     "text": [
      "car\n",
      "and\n",
      "cdr\n"
     ]
    }
   ],
   "source": [
    "# topics\n",
    "#    recursion\n",
    "#    the len function (basis case of recursion)\n",
    "#    list slicing\n",
    "#    deep and shallow copies\n",
    "#  \n",
    "\n",
    "def classic_car_cdr(the_list):\n",
    "    if len(the_list)>0:           # while there was somethign to do\n",
    "        print(the_list[0])           # do it to the first one\n",
    "        classic_car_cdr(the_list[1:])  # and then recurse on the rest\n",
    "    \n",
    "classic_car_cdr(['car','and','cdr'])"
   ]
  },
  {
   "cell_type": "markdown",
   "metadata": {},
   "source": [
    "## Exercise C"
   ]
  },
  {
   "cell_type": "code",
   "execution_count": 10,
   "metadata": {},
   "outputs": [],
   "source": [
    "def boom_recursive(n):\n",
    "    \"\"\"\n",
    "    use the recursive prototype above to rewrite Boom\n",
    "    \"\"\"\n",
    "    pass\n",
    "    \n",
    "boom_recursive(10)"
   ]
  },
  {
   "cell_type": "markdown",
   "metadata": {},
   "source": [
    "## Answer C"
   ]
  },
  {
   "cell_type": "code",
   "execution_count": 15,
   "metadata": {},
   "outputs": [
    {
     "name": "stdout",
     "output_type": "stream",
     "text": [
      "10\n",
      "9\n",
      "8\n",
      "7\n",
      "6\n",
      "5\n",
      "4\n",
      "3\n",
      "2\n",
      "1\n",
      "BOOM!\n"
     ]
    }
   ],
   "source": [
    "\n",
    "def boom_recursive(n):\n",
    "    \n",
    "    # NOTE THE SCOPING OF n!\n",
    "    \n",
    "    def make_a_list(n):\n",
    "        return [i for i in range(n)]\n",
    "    \n",
    "    def boom_recursive_aux(the_list):\n",
    "        if len(the_list)>0:\n",
    "            print(n-the_list[0])\n",
    "            boom_recursive_aux(the_list[1:])\n",
    "            \n",
    "    boom_recursive_aux(make_a_list(n))\n",
    "    print('BOOM!')\n",
    "    \n",
    "boom_recursive(10)"
   ]
  },
  {
   "cell_type": "code",
   "execution_count": null,
   "metadata": {},
   "outputs": [],
   "source": []
  },
  {
   "cell_type": "markdown",
   "metadata": {},
   "source": [
    "## Discussion C1: List Slices\n",
    "\n",
    "This is a discussion of deep and shallow copies, and how it relates to slices in Python"
   ]
  },
  {
   "cell_type": "code",
   "execution_count": 16,
   "metadata": {},
   "outputs": [
    {
     "name": "stdout",
     "output_type": "stream",
     "text": [
      "[1, 4, 3]\n",
      "[2, 3]\n",
      "[[1, 2], [3, 4], [7, 6]]\n",
      "[[3, 4], [7, 6]]\n"
     ]
    }
   ],
   "source": [
    "# BEWARE!\n",
    "#   list slices make shallow copies\n",
    "\n",
    "\n",
    "# copyness shown\n",
    "\n",
    "l = [1,2,3]\n",
    "l_tail = l[1:]\n",
    "\n",
    "l[1] = 4\n",
    "\n",
    "print(l)\n",
    "print(l_tail)\n",
    "\n",
    "# shallowness shown\n",
    "\n",
    "l = [[1,2],[3,4],[5,6]]\n",
    "l_tail = l[1:]\n",
    "l_tail[1][0] = 7\n",
    "\n",
    "print(l)\n",
    "print(l_tail)"
   ]
  },
  {
   "cell_type": "markdown",
   "metadata": {},
   "source": [
    "## Discussion C2: Scoping\n",
    "\n",
    "Python's data model is the the environment contains stack of _dictionaries_ of name, value pairs. \n",
    "\n",
    "The global dictionary is opened at the top level, and the __def__ statements bind the name given in the def to the function object that is the body of the def compound.\n",
    "\n",
    "Other variables defined at the top level are also in the dictionary. Many predefined functions are in this global dictionary. Import statements (for future discussion) also populate the gobal dictionary.\n",
    "\n",
    "Each function invocation (when it runs) creates a new dictionary and places it at the bottom of the current stack of dictionaries. Variable names are known at the time of defintion. Is this called the staic, or lexical binding of the variable.\n",
    "\n",
    "When a variable is encountered at runtime, either to look up the value or to rebind (update) the value, the dictionaries are searched from the most recently created backward to the global, for the first name match.\n",
    "\n",
    "__Recursion__\n",
    "\n",
    "So recursion works because each time the function is re-entered, a new dictionary is pushed, and the bindings hide the bindings of the caller. On return the dictionary is discarded, and the old bindings are re-exposed.\n",
    "\n",
    "__How about that n?__\n",
    "\n",
    "In the sample solutino to the recursive boom, the variable n is in the dictionary associated with the first called def, and all recursive calls have this binding available, because they do not rebind n.\n",
    "\n",
    "\n",
    "\n",
    "\n"
   ]
  },
  {
   "cell_type": "code",
   "execution_count": null,
   "metadata": {},
   "outputs": [],
   "source": []
  }
 ],
 "metadata": {
  "kernelspec": {
   "display_name": "Python 3",
   "language": "python",
   "name": "python3"
  },
  "language_info": {
   "codemirror_mode": {
    "name": "ipython",
    "version": 3
   },
   "file_extension": ".py",
   "mimetype": "text/x-python",
   "name": "python",
   "nbconvert_exporter": "python",
   "pygments_lexer": "ipython3",
   "version": "3.8.5"
  }
 },
 "nbformat": 4,
 "nbformat_minor": 4
}
