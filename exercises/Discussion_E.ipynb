{
 "cells": [
  {
   "cell_type": "markdown",
   "metadata": {},
   "source": [
    "# REU-CFS: Day 1, Assertions and Loop Invariants\n",
    "\n",
    "_Burton Rosenberg, University of Miami_\n",
    "\n",
    "_Monday, 17 May 2021_\n",
    "\n",
    "------\n",
    "\n",
    "This is a first program in Python. Examples are given then an exercise.\n",
    "\n",
    "------\n",
    "\n",
    "\n",
    "### Assertions and Loop Invariants\n",
    "\n",
    "\n",
    "In this section we will discuss matters that pertain to all programming languges. We will discuss a certain method for getting correct code. We will exercise those methods to help write two classic sorting algorithems: selection sort and insertion sort.\n",
    "\n",
    "An _assertion_ is a logical statement that must be true if the code is correctly functionning.\n",
    "\n",
    "A block of code as _preconditions_, which are the assertions that it requires, and _postconditions_, where are the assertions it guarantess.\n",
    "\n",
    "The method conceptualizes programming as the sequencing of code blocks so postconditions of the directly preceeding block match the preconditions of the directly following block.\n",
    "\n",
    "Python has an assert statement, that can run the assertion, which is otherwise just something a programmer keeps abstractly in mind. In is a good way to test correctness, and a good way to localize a bug when something goes wrong. \n",
    "\n",
    "(In production code the assertions must be removed, because when an assertion fails the computer goes geek-speak, and your retail audience will not be impressed.)\n",
    "\n",
    "Here follows an example. The distance function is the absolute value of the difference of two numbers. For the purposes of this example, we avoid the absolute value by placing the numbers in a known value order and doing a signed subtraction, which we know will come out postitive.\n",
    "\n",
    "Step one, then, is placing the numbers in the known value ordering. Step two is calculating a weakened form of the distance function, one which assumes the first numberis never larger than the second. The step one sets up a postcondition that is the precondition needed for correctness for step two.\n",
    "\n"
   ]
  },
  {
   "cell_type": "code",
   "execution_count": 4,
   "metadata": {},
   "outputs": [
    {
     "name": "stdout",
     "output_type": "stream",
     "text": [
      "at least it is symmetric\n"
     ]
    }
   ],
   "source": [
    "\n",
    "\n",
    "def distance(x,y):\n",
    "    \"\"\"\n",
    "    find the distance between x and y\n",
    "    \"\"\"\n",
    "    \n",
    "    # two blocks of code, the postcondition of the first matches the\n",
    "    # precondition of the second.\n",
    "    # the __purpose__ of the first is to make all preconditions of the\n",
    "    # second block true. \n",
    "    # we will check this with python's assert statement\n",
    "\n",
    "    # this also demonstrates pythons multiple assignments\n",
    "    x, y = min(x,y), max(x,y)\n",
    "    \n",
    "    # postcondition x<=y\n",
    "\n",
    "    assert x<y\n",
    "    \n",
    "    # precondition for corrects (since we do not use absolute value): x<=y\n",
    "    return y-x\n",
    "\n",
    "\n",
    "def test_distance():\n",
    "    if distance(7,3)==distance(3,7):\n",
    "        print(\"at least it is symmetric\")\n",
    "    else:\n",
    "        print(\"broken!\")\n",
    "\n",
    "test_distance()"
   ]
  },
  {
   "cell_type": "markdown",
   "metadata": {},
   "source": [
    "### Loop Invariants\n",
    "\n",
    "Loops (for, while, self-recursion) can be difficult to prove correct. They are even difficult to prove that the loop will not get stuck and run forever, that there is an eventual exiting of the loop, i.e. that the loop terminates. So we break the correctness proof into two elements,\n",
    "\n",
    "* that the loop would be correct if loop terminates, and\n",
    "* that the loop terminates\n",
    "\n",
    "Thinking about loops in this way already improves coding. Non-terminating loops are common, and they might show up after the program is considered correct, because a sly combination of values and events occurs, which send the termination reasoning off its unjustifiably optimistic course.\n",
    "\n",
    "Mentally unwind the loop by placing it as a self-reproduced sequence of blocks,\n",
    "\n",
    ">  while block-x  (is transformed into)  block-x block-x ....\n",
    "\n",
    "Which we know will be a finite sequence but that is not our interest now. By the language of pre- and postconditions the loop block's precondition equals its postcondition, and this summarizes entirely correctness. The common assertion is called the _loop invariant_.\n",
    "\n",
    "If the loop invariant holds, and termination is given, then the loop is correct. Here it is in pseudo-mathematics,\n",
    "\n",
    "> LoopInvariant + Termination => Goal\n",
    "\n",
    "The Loop Invariant is defined to be true before the loop block is ever entered. Usually this is done by making an Loop Invariant that is _trivially true_ for the loop is ever entered. The each time through the loop, the code makes progress towards the goal but perhaps disturbing the invariant while it works, but it returns it true at the bottom of the loop, as the prerequisite for the next entry to the loop.\n",
    "\n",
    "The Loop Invariant must be written to summarize the point of the loop, so that at termination one can conclude that the goal has been reached. Often the Loop Invariant is too complicated to actually write an Python assert statement, and is written in prose or combined prose-mathematics.\n",
    "\n",
    "Here is an example that is a bit contrived, but it will allow us the demonstrate the loop invariant with actuall assert statements.\n"
   ]
  },
  {
   "cell_type": "code",
   "execution_count": 48,
   "metadata": {},
   "outputs": [
    {
     "name": "stdout",
     "output_type": "stream",
     "text": [
      "correct!\n"
     ]
    }
   ],
   "source": [
    "\n",
    "def find_min(a):\n",
    "    \"\"\"\n",
    "    find the minimum in list a using loop invariants\n",
    "    \"\"\"\n",
    "    \n",
    "    # min only exists for non-empty lists, that is a precondition\n",
    "    if len(a)==0 : return None\n",
    "    # postcondition, the list is non-empty\n",
    "    \n",
    "    # check the precondition\n",
    "    assert len(a)>0 \n",
    "    \n",
    "    cur = a[0]  # this is correct because a is non-empty\n",
    "    \n",
    "    # L.I. cur is the minimum over the first i elements of the list a\n",
    "    \n",
    "    # L.I. trivially true for the first 1 elements\n",
    "    assert cur==min(a[:1])\n",
    "\n",
    "    for i in range(2,len(a)):\n",
    "        # L.I. might not be true here! i just got one bigger!\n",
    "        if a[i-1]<cur:\n",
    "            # if so, fix it\n",
    "            cur = a[i-1]\n",
    "\n",
    "        # assert L.I.\n",
    "        assert cur==min(a[:i])\n",
    "\n",
    "    # Loop terminates because the loop condition is finite\n",
    "    # termination implies cur == min(a[:n]) which is equal to min(a)\n",
    "    return cur\n",
    "\n",
    "def test_find_min():\n",
    "    test = [19*i%33 for i in range(1,33)]\n",
    "    ans = min(test)\n",
    "    if find_min(test)==ans:\n",
    "        print(\"correct!\")\n",
    "    else:\n",
    "        print(\"broken!\")\n",
    "    \n",
    "test_find_min()"
   ]
  },
  {
   "cell_type": "markdown",
   "metadata": {},
   "source": [
    "### Bonus discussion: data structure invariants\n",
    "\n",
    "The method of loop invariants can be extended to data. A _datastructure invariant_ is an assertion about the values in the datastructure that can be made before and after an update to the datastructure.\n",
    "\n",
    ":) that's all about this for now, we want to do some exercises.\n"
   ]
  },
  {
   "cell_type": "markdown",
   "metadata": {},
   "source": [
    "### Exercise: Classic n-squared Sorts\n",
    "\n",
    "\n",
    "__Selection Sort__\n",
    "\n",
    "Please write a selection sort, which works inplace &mdash; the numbers are rearranged in the same array, not copied to a new array. \n",
    "\n",
    "The helpful loop invariant is that the loop begins with i indexing the next location to be finalized, beginning with i = 0; and the value to place in location i is found among locations j>=i. If the value to put in location i comes from location j, swap values between locations i and j.\n"
   ]
  },
  {
   "cell_type": "code",
   "execution_count": 3,
   "metadata": {},
   "outputs": [
    {
     "name": "stdout",
     "output_type": "stream",
     "text": [
      "correct!\n"
     ]
    }
   ],
   "source": [
    "\n",
    "# fix my broken code\n",
    "\n",
    "def selection_sort(a):\n",
    "    \"\"\"\n",
    "    selection sort the list a\n",
    "    \"\"\"\n",
    "    for i in range(len(a)+1):\n",
    "        for j in range(i+1,len(a)):\n",
    "            if a[i]>a[j]:\n",
    "                temp = a[i]\n",
    "                a[i]=a[j]\n",
    "                a[j]=temp\n",
    "    return a\n",
    "\n",
    "def test_selection_sort():\n",
    "    test = [(13*i)%97 for i in range(84)]\n",
    "    ans = sorted(test[:])\n",
    "    selection_sort(test)\n",
    "    if test == ans:\n",
    "        print(\"correct!\")\n",
    "    else:\n",
    "        print(\"broken!\")   \n",
    "\n",
    "test_selection_sort()"
   ]
  },
  {
   "cell_type": "markdown",
   "metadata": {},
   "source": [
    "__Insertion Sort__\n",
    "\n",
    "Please write an insertion sort. The sort by its nature works in-place &mdash; the values are moved around the array, not copied off to a new array.\n",
    "\n",
    "The Loop Invariant is that at the top of the loop, location i is considered for swapping with location i+1, to bring the smaller value to location i. Additionally j is set initially to i and the inner loop invariant is that the swapping continues towards smaller j until the value at location j is less than that of location j+1."
   ]
  },
  {
   "cell_type": "code",
   "execution_count": 16,
   "metadata": {},
   "outputs": [
    {
     "name": "stdout",
     "output_type": "stream",
     "text": [
      "correct!\n"
     ]
    }
   ],
   "source": [
    "#fix my broken code\n",
    "\n",
    "def insertion_sort(c):\n",
    "    if len(c)== 0 : return c\n",
    "    \n",
    "    for i in range(len(c)):\n",
    "        switch=False\n",
    "        for j in range(i-1,-1,-1):\n",
    "            if c[j]<=c[i]:\n",
    "                if switch==True:\n",
    "                    temp = c[i]\n",
    "                    c.pop(i)\n",
    "                    c.insert(j+1,temp)\n",
    "                break\n",
    "            elif c[j]>c[i]:\n",
    "                switch=True\n",
    "    return c\n",
    "\n",
    "def test_insertion_sort():\n",
    "    test = [(13*i)%97 for i in range(84)]\n",
    "    ans = sorted(test[:])\n",
    "    insertion_sort(test)\n",
    "    if test == ans:\n",
    "        print(\"correct!\")\n",
    "    else:\n",
    "        print(\"broken!\")   \n",
    "\n",
    "test_insertion_sort()"
   ]
  },
  {
   "cell_type": "markdown",
   "metadata": {},
   "source": [
    "### Exercise: Classic n-log(n) Sorts\n",
    "\n",
    "\n",
    "__Merge Sort__\n",
    "\n",
    "Please write a merge sort.\n"
   ]
  },
  {
   "cell_type": "code",
   "execution_count": null,
   "metadata": {},
   "outputs": [],
   "source": [
    "#fix my broken code\n",
    "\n",
    "def merge_them(c1,ch):\n",
    "    print(c1,ch)\n",
    "    \n",
    "    cf = []\n",
    "    counter = 0\n",
    "    count=len(c1)+len(ch)\n",
    "    \n",
    "    while(counter<count):\n",
    "        if len(c1)==0:\n",
    "            cf=cf+ch\n",
    "            break\n",
    "        elif len(ch)==0:\n",
    "            cf=cf+c1\n",
    "            break\n",
    "        elif c1[0]<ch[0]:\n",
    "            cf.append(c1[0])\n",
    "            c1.pop(0)\n",
    "        else:\n",
    "            cf.append(ch[0])\n",
    "            ch.pop(0)\n",
    "        counter+=1\n",
    "    print(cf)\n",
    "    return cf\n",
    "\n",
    "\n",
    "def merge_sort(c):\n",
    "    if len(c)<2 : \n",
    "        return c\n",
    "\n",
    "    m =len(c)//2\n",
    "    c= merge_them(merge_sort(c[:m]),merge_sort(c[m:]))\n",
    "    return c\n",
    "\n",
    "def test_merge_sort():\n",
    "    test = [(13*i)%97 for i in range(84)]\n",
    "    ans = sorted(test[:])\n",
    "    if merge_sort(test) == ans:\n",
    "        print(\"correct!\")\n",
    "    else:\n",
    "        print(\"broken!\")   \n",
    "\n",
    "test_merge_sort()\n"
   ]
  },
  {
   "cell_type": "code",
   "execution_count": null,
   "metadata": {},
   "outputs": [],
   "source": []
  },
  {
   "cell_type": "code",
   "execution_count": null,
   "metadata": {},
   "outputs": [],
   "source": []
  }
 ],
 "metadata": {
  "kernelspec": {
   "display_name": "Python 3",
   "language": "python",
   "name": "python3"
  },
  "language_info": {
   "codemirror_mode": {
    "name": "ipython",
    "version": 3
   },
   "file_extension": ".py",
   "mimetype": "text/x-python",
   "name": "python",
   "nbconvert_exporter": "python",
   "pygments_lexer": "ipython3",
   "version": "3.8.3"
  }
 },
 "nbformat": 4,
 "nbformat_minor": 2
}
