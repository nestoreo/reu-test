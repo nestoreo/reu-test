{
 "cells": [
  {
   "cell_type": "markdown",
   "metadata": {},
   "source": [
    "# REU-CFS: Day 1, Ex B.\n",
    "\n",
    "_Burton Rosenberg, University of Miami_\n",
    "\n",
    "_Monday, 17 May 2021_\n",
    "\n",
    "------\n",
    "\n",
    "This is a first program in Python. Examples are given then an exercise.\n",
    "\n",
    "------\n"
   ]
  },
  {
   "cell_type": "markdown",
   "metadata": {},
   "source": [
    "## Example B"
   ]
  },
  {
   "cell_type": "code",
   "execution_count": 3,
   "metadata": {},
   "outputs": [
    {
     "name": "stdout",
     "output_type": "stream",
     "text": [
      "printing object of type <class 'list'>\n",
      "one\n",
      "two\n",
      "three\n"
     ]
    }
   ],
   "source": [
    "\n",
    "def print_them_all(the_list):\n",
    "    \"\"\"\n",
    "    assumes the_list is a list\n",
    "    topics -\n",
    "        iterables\n",
    "        list data type\n",
    "        a string is an iterable (see next box)\n",
    "    \"\"\"\n",
    "    print(f'printing object of type {type(the_list)}')\n",
    "    for element in the_list:\n",
    "        print(element)\n",
    "\n",
    "l = ['one','two','three']\n",
    "print_them_all(l)"
   ]
  },
  {
   "cell_type": "code",
   "execution_count": 20,
   "metadata": {},
   "outputs": [
    {
     "name": "stdout",
     "output_type": "stream",
     "text": [
      "printing object of type <class 'str'>\n",
      "h\n",
      "e\n",
      "l\n",
      "l\n",
      "o\n",
      "\n",
      "printing object of type <class 'list'>\n",
      "<class 'int'>\n",
      "<class 'int'>\n",
      "<class 'int'>\n"
     ]
    }
   ],
   "source": [
    "\n",
    "def interlude_on_interables_and_lists():\n",
    "    \"\"\"\n",
    "    topics -\n",
    "        iterables include lists and strings\n",
    "        list comprehension construction\n",
    "        range is a sort of list (discussio needed)\n",
    "    \"\"\"\n",
    "    l = 'hello'\n",
    "    print_them_all(l)\n",
    "    print()\n",
    "    l = [type(i) for i in range(3)]\n",
    "    print_them_all(l)\n",
    "\n",
    "interlude_on_interables_and_lists() "
   ]
  },
  {
   "cell_type": "markdown",
   "metadata": {},
   "source": [
    "## Exercise B\n",
    "\n",
    "__Topics__\n",
    "\n",
    "1. Markdown language in _Jupyter_\n",
    "1. nested defs\n",
    "1. return values and return statements\n",
    "1. more on the range function."
   ]
  },
  {
   "cell_type": "code",
   "execution_count": 27,
   "metadata": {},
   "outputs": [
    {
     "name": "stdout",
     "output_type": "stream",
     "text": [
      "<class 'range'>\n"
     ]
    }
   ],
   "source": [
    "# BEWARE!\n",
    "\n",
    "print(type(range(3)))\n"
   ]
  },
  {
   "cell_type": "code",
   "execution_count": 5,
   "metadata": {},
   "outputs": [
    {
     "name": "stdout",
     "output_type": "stream",
     "text": [
      "printing object of type <class 'list'>\n",
      "0\n",
      "1\n",
      "2\n",
      "3\n",
      "4\n",
      "5\n",
      "6\n",
      "7\n",
      "8\n",
      "9\n",
      "BOOM!\n"
     ]
    }
   ],
   "source": [
    "\n",
    "def the_new_boom(n):\n",
    "    \n",
    "    def make_a_list(n):\n",
    "        return [i for i in range(n)]\n",
    "    \n",
    "    the_list = make_a_list(n)\n",
    "    print_them_all(the_list)\n",
    "    print(\"BOOM!\")\n",
    "    \n",
    "the_new_boom(10)"
   ]
  }
 ],
 "metadata": {
  "kernelspec": {
   "display_name": "Python 3",
   "language": "python",
   "name": "python3"
  },
  "language_info": {
   "codemirror_mode": {
    "name": "ipython",
    "version": 3
   },
   "file_extension": ".py",
   "mimetype": "text/x-python",
   "name": "python",
   "nbconvert_exporter": "python",
   "pygments_lexer": "ipython3",
   "version": "3.8.3"
  }
 },
 "nbformat": 4,
 "nbformat_minor": 4
}
