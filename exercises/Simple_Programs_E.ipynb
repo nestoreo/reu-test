{
 "cells": [
  {
   "cell_type": "markdown",
   "metadata": {},
   "source": [
    "# REU-CFS: Day 1, Simple Programs\n",
    "\n",
    "_Burton Rosenberg, University of Miami_\n",
    "\n",
    "_Monday, 17 May 2021_\n",
    "\n",
    "------\n",
    "\n",
    "This is a first program in Python. Examples are given then an exercise.\n",
    "\n",
    "------\n"
   ]
  },
  {
   "cell_type": "code",
   "execution_count": 4,
   "metadata": {},
   "outputs": [
    {
     "name": "stdout",
     "output_type": "stream",
     "text": [
      "The number 0 is the minimum number in the list [3, 2, 8, 5, 6, 1, 9].\n"
     ]
    }
   ],
   "source": [
    "def findmin(list_of_numbers):\n",
    "    \"\"\"\n",
    "    give a list of numbers for the minimum\n",
    "    btw, look up in the documentation the built-in Python function for this. \n",
    "    for also do it with going down the list\n",
    "    \"\"\"\n",
    "    return 0\n",
    "\n",
    "# should print 9\n",
    "the_list = [3,2,8,5,6,1,9]\n",
    "min_is = findmax(the_list)\n",
    "print(f'The number {min_is} is the minimum number in the list {the_list}.')\n"
   ]
  },
  {
   "cell_type": "code",
   "execution_count": 15,
   "metadata": {},
   "outputs": [
    {
     "name": "stdout",
     "output_type": "stream",
     "text": [
      "The sorted list is None.\n"
     ]
    }
   ],
   "source": [
    "def selection_sort(list_of_numbers):\n",
    "\n",
    "    \"\"\"\n",
    "    give a list of integers, return the list sorted, by using findmin\n",
    "    repeatedly, and removing one by one the smallest item, building up\n",
    "    a new list.\n",
    "    \n",
    "    see: https://docs.python.org/3/reference/simple_stmts.html#grammar-token-del-stmt\n",
    "    \n",
    "    for the del **statement** which is a list **mutator** (the list is changed in place)\n",
    "    \n",
    "    see: https://python-reference.readthedocs.io/en/latest/docs/list/append.html\n",
    "    \n",
    "    for the append function.\n",
    "    \n",
    "    BTW: look up in the documentation the built-in Python function for this.\n",
    "    \n",
    "    \"\"\"\n",
    "    pass\n",
    "\n",
    "\n",
    "def demo_del():\n",
    "    the_list = [3,2,8,5,5,6,1,9]\n",
    "    del the_list[3]\n",
    "    print(the_list)\n",
    "\n",
    "def demo_append():\n",
    "    the_list = [1,2,3]\n",
    "    the_list.append(4)\n",
    "    print(the_list)\n",
    "    \n",
    "#demo_del()     # uncomment to run\n",
    "#demo_append()  # uncomment to run\n",
    "    \n",
    "sorted_list = selection_sort(the_list)\n",
    "print(f'The sorted list is {sorted_list}.')"
   ]
  },
  {
   "cell_type": "code",
   "execution_count": null,
   "metadata": {},
   "outputs": [],
   "source": []
  }
 ],
 "metadata": {
  "kernelspec": {
   "display_name": "Python 3",
   "language": "python",
   "name": "python3"
  },
  "language_info": {
   "codemirror_mode": {
    "name": "ipython",
    "version": 3
   },
   "file_extension": ".py",
   "mimetype": "text/x-python",
   "name": "python",
   "nbconvert_exporter": "python",
   "pygments_lexer": "ipython3",
   "version": "3.8.3"
  }
 },
 "nbformat": 4,
 "nbformat_minor": 4
}
