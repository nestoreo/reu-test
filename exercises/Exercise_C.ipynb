{
 "cells": [
  {
   "cell_type": "markdown",
   "metadata": {},
   "source": [
    "# REU-CFS: Day 1, Ex C.\n",
    "\n",
    "_Burton Rosenberg, University of Miami_\n",
    "\n",
    "_Monday, 17 May 2021_\n",
    "\n",
    "------\n",
    "\n",
    "This is a first program in Python. Examples are given then an exercise.\n",
    "\n",
    "------\n"
   ]
  },
  {
   "cell_type": "markdown",
   "metadata": {},
   "source": [
    "## Example C\n",
    "\n",
    "This exercise introduces recursion. The reference to car and cdr is from a very old language, Lisp. \n",
    "\n",
    "Lisp made extensive use of lists and recursion. For very mathy reasons, it made recursion the basis of all programming.\n",
    "\n",
    "The list model was a chain of boxes. Each box had two compartments. \n",
    "\n",
    "1. The first, named _car_ pointed to data.\n",
    "1. The second, name _cdr_ pointed to the next box.\n",
    "1. A special NIL value was in the last _cdr_ to show the end of the list.\n",
    "\n",
    "<pre>\n",
    "+-----|-----+     +-----|-----+     +-----|-----+\n",
    "| car | cdr-+---->| car | cdr-+---->| car |  /  |\n",
    "+-----|-----+     +-----|-----+     +-----|-----+\n",
    "</pre>"
   ]
  },
  {
   "cell_type": "code",
   "execution_count": 11,
   "metadata": {},
   "outputs": [
    {
     "name": "stdout",
     "output_type": "stream",
     "text": [
      "car\n",
      "and\n",
      "cdr\n"
     ]
    }
   ],
   "source": [
    "# topics\n",
    "#    recursion\n",
    "#    the len function (basis case of recursion)\n",
    "#    list slicing\n",
    "#    deep and shallow copies\n",
    "#  \n",
    "\n",
    "def classic_car_cdr(the_list):\n",
    "    if len(the_list)>0:           # while there was somethign to do\n",
    "        print(the_list[0])           # do it to the first one\n",
    "        classic_car_cdr(the_list[1:])  # and then recurse on the rest\n",
    "    \n",
    "classic_car_cdr(['car','and','cdr'])"
   ]
  },
  {
   "cell_type": "markdown",
   "metadata": {},
   "source": [
    "## Exercise C"
   ]
  },
  {
   "cell_type": "code",
   "execution_count": 2,
   "metadata": {},
   "outputs": [
    {
     "name": "stdout",
     "output_type": "stream",
     "text": [
      "10\n",
      "9\n",
      "8\n",
      "7\n",
      "6\n",
      "5\n",
      "4\n",
      "3\n",
      "2\n",
      "1\n",
      "BOOM!\n"
     ]
    }
   ],
   "source": [
    "def boom_recursive(n):\n",
    "    \"\"\"\n",
    "    use the recursive prototype above to rewrite Boom\n",
    "    \"\"\"\n",
    "    if (n==0):\n",
    "        print(\"BOOM!\")\n",
    "    else:\n",
    "        print(n)\n",
    "        boom_recursive(n-1)\n",
    "    \n",
    "boom_recursive(10)"
   ]
  },
  {
   "cell_type": "code",
   "execution_count": null,
   "metadata": {},
   "outputs": [],
   "source": []
  }
 ],
 "metadata": {
  "kernelspec": {
   "display_name": "Python 3",
   "language": "python",
   "name": "python3"
  },
  "language_info": {
   "codemirror_mode": {
    "name": "ipython",
    "version": 3
   },
   "file_extension": ".py",
   "mimetype": "text/x-python",
   "name": "python",
   "nbconvert_exporter": "python",
   "pygments_lexer": "ipython3",
   "version": "3.8.3"
  }
 },
 "nbformat": 4,
 "nbformat_minor": 4
}
