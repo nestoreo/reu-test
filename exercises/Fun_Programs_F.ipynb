{
 "cells": [
  {
   "cell_type": "markdown",
   "metadata": {},
   "source": [
    " # REU-CFS: Simple Programs\n",
    "\n",
    "_Burton Rosenberg, University of Miami_\n",
    "\n",
    "_Monday, 18 May 2021_\n",
    "\n",
    "------\n",
    "\n",
    "Some programming exercises.\n",
    "\n",
    "------"
   ]
  },
  {
   "cell_type": "markdown",
   "metadata": {},
   "source": [
    "\n",
    "### Example: Slices\n",
    "\n",
    "\n",
    "Python supports the selection of multiple elements by index using *slice* notation. The full notation is `[a:b:c]` fo for a slace beginning at a, ending before b, advancing to include only every c-th element.\n",
    "\n",
    "Slice notation can appear on the right hand side of an assignment, to retrieve a slice of elements, or on the left hand side of an assignment, to receive a slice of elements.\n",
    "\n",
    "Leaving a location blank refers to the default (but see the discussion below on negative skips):\n",
    "\n",
    "* the default for the start is the first item in the list\n",
    "* the default for the end is the list item in the list\n",
    "* the default for the skip is to take all items in the start-end range\n",
    "\n",
    "\n",
    "Here are some fun tricks with slices:"
   ]
  },
  {
   "cell_type": "code",
   "execution_count": 2,
   "metadata": {},
   "outputs": [
    {
     "name": "stdout",
     "output_type": "stream",
     "text": [
      "[0, 1, 2, 3, 4, 5, 6, 7, 8, 9]\n",
      "0 9\n",
      "[0, 2, 4, 6, 8]\n",
      "[9, 7, 5, 3, 1]\n",
      "[0, -1, -2, -3, -4, -5, -6, -7, -8, -9]\n",
      "[0, -1, 2, -3, 4, -5, 6, -7, 8, -9]\n",
      "[9, -1, 7, -3, 5, -5, 3, -7, 1, -9]\n",
      "[0, 1, 2, 3, 4, 5, 4, 3, 2, 1, 0]\n"
     ]
    }
   ],
   "source": [
    "def fun_slice():\n",
    "    \"\"\"\n",
    "    here are some fun slice tricks.\n",
    "    \"\"\"\n",
    "    a = [i for i in range(10)]\n",
    "    print(a)\n",
    "    print(a[0],a[-1])\n",
    "    print(a[::2])\n",
    "    print(a[::-2])\n",
    "\n",
    "    b = [-i for i in range(10)]\n",
    "    print(b)\n",
    "    b[::2] = a[::2]\n",
    "    print(b)\n",
    "    b[::2] = a[::-2]\n",
    "    print(b)\n",
    "    \n",
    "    a[len(a)//2:] = a[len(a)//2::-1]\n",
    "    print(a)\n",
    "    \n",
    "fun_slice()"
   ]
  },
  {
   "cell_type": "markdown",
   "metadata": {},
   "source": [
    "### Exercise\n",
    "\n",
    "Given a list of integers, find indices i and j such that the sum(a[i:j]) is a maximum. There can several correct answers differing on i and j. First source of ambiguity is when a[i]is zero &mdash;  both including that index and not give the same sum. The second is if there are more than one distinct slices of common, maximum sum. But note (prove this!) if so, all are completely disjoint, not even touching.\n",
    "\n",
    "For an exercise in slices, enumerate all approriate i, j pairs and trace the maximum.\n",
    "\n",
    "Extra credit: Find a dynamic programming method that is O(n)."
   ]
  },
  {
   "cell_type": "code",
   "execution_count": 3,
   "metadata": {},
   "outputs": [
    {
     "name": "stdout",
     "output_type": "stream",
     "text": [
      "broken!\n",
      "broken!\n",
      "broken!\n",
      "broken!\n",
      "broken!\n",
      "broken!\n",
      "broken!\n",
      "broken!\n"
     ]
    }
   ],
   "source": [
    "# fix my broken code!\n",
    "\n",
    "def max_interval(a):\n",
    "    n = len(a)\n",
    "    max_v, max_i, max_j = a[0], 0, 0 \n",
    "    \n",
    "    pass\n",
    "\n",
    "    return (max_v, max_i, max_j)\n",
    "\n",
    "def max_interval_dyn(a):\n",
    "    \"\"\"\n",
    "    m array: m[i] is the max sum of a[j:i+1],\n",
    "    j array: the j for m[i] as above\n",
    "    n.b. j is not needed, it can be recalculated from m\n",
    "    \"\"\"\n",
    "    n = len(a)\n",
    "    m = [0]*n\n",
    "    j = [0]*n\n",
    "    m[0] = a[0]\n",
    "    # LI established - m and j correct up to including i=0\n",
    "    for i in range(1,n):\n",
    "\n",
    "        pass\n",
    "\n",
    "    v = max(m)\n",
    "    k = m.index(v)\n",
    "    return (v,j[k],k+1)\n",
    "    \n",
    "    \n",
    "def test_max_interval(n):\n",
    "    test = [i+1 for i in range(n)]\n",
    "    ans = (n*(n+1)/2,0,n)\n",
    "    if ans == max_interval(test):\n",
    "        print(\"correct!\")\n",
    "    else:\n",
    "        print(\"broken!\")\n",
    "        \n",
    "    m = n//2\n",
    "    x = max_interval([i+1 for i in range(m)])\n",
    "    test[m] = -x[0]-1\n",
    "    ans = (sum([i+1 for i in range(m+1,n)]),m+1,n)\n",
    "    if ans == max_interval(test):\n",
    "        print(\"correct!\")\n",
    "    else:\n",
    "        print(\"broken!\")\n",
    "\n",
    "def test_max_interval_dyn(n):\n",
    "    test = [i+1 for i in range(n)]\n",
    "    ans = (n*(n+1)/2,0,n)\n",
    "    if ans == max_interval_dyn(test):\n",
    "        print(\"correct!\")\n",
    "    else:\n",
    "        print(\"broken!\")\n",
    "        \n",
    "    m = n//2\n",
    "    x = max_interval([i+1 for i in range(m)])\n",
    "    test[m] = -x[0]-1\n",
    "    ans = (sum([i+1 for i in range(m+1,n)]),m+1,n)\n",
    "    if ans == max_interval_dyn(test):\n",
    "        print(\"correct!\")\n",
    "    else:\n",
    "        print(\"broken!\")\n",
    "    \n",
    "    test = [i+1 for i in range(n)]\n",
    "    test[::2] = test[n//2::]\n",
    "    for i in range(0,n,2):\n",
    "        test[i] = test[i]-n\n",
    "    ans = max_interval(test)\n",
    "    if ans == max_interval_dyn(test):\n",
    "        print(ans)\n",
    "        print(\"correct!\")\n",
    "    else:\n",
    "        print(\"broken!\")\n",
    "    \n",
    "for n in [6,15,50,201]:\n",
    "    test_max_interval(n)\n",
    "\n",
    "did_dynamic = False\n",
    "if did_dynamic:\n",
    "    for n in [6,15,50,201]: test_max_interval_dyn(n)\n",
    " "
   ]
  },
  {
   "cell_type": "markdown",
   "metadata": {},
   "source": [
    "### Exercise\n",
    "\n",
    "A perfect shuffle is when the cards during a shuffle alternate perfectly: one from the left hand, one from the right hand, one from the left hand, and so on. Only a magician can perform a perfect shuffle, it requires such slight of hand. And only a mathematician can wonder what are the properties of a perfect shuffle? Does it, for instance, return the deck back to the original order after a certain, perhaps small, number of shuffles\n",
    "\n",
    "The question was considered by someone who is both a mathematician and a magicina, Persi Diaconns.\n",
    "\n",
    "In this exercise in slices, we will simulate a perfect shuffle and answer the question of how many perfect shuffles return the deck to the original order. The trick to the problem is to work backwards. Rather than considering a shuffle, simulate the un-shuffle, which would alternately take cards backwards from the finished shuffle, and stack the two halves and a backward cut.\n",
    "\n",
    "__Challenge problem__ \n",
    "\n",
    "Smaug the dragon is clever enough to use his tail for a 3 hand perfect shuffle. What are the results for this shuffle?\n"
   ]
  },
  {
   "cell_type": "code",
   "execution_count": 4,
   "metadata": {},
   "outputs": [
    {
     "name": "stdout",
     "output_type": "stream",
     "text": [
      "broken!\n"
     ]
    }
   ],
   "source": [
    "# fix my broken code\n",
    "\n",
    "def perfect_shuffle(deck):\n",
    "    \"\"\"\n",
    "    reverse shuffle in place (update the values in the list deck)\n",
    "    \"\"\"\n",
    "    return deck\n",
    "\n",
    "def n_perfect_shuffle(m):\n",
    "    \"\"\"\n",
    "    answers the question: how many perfect shuffles on\n",
    "    a deck of m cards returns the deck to the original order\n",
    "    \"\"\"\n",
    "    deck = [i for i in range(m)]\n",
    "    deck_org = deck[:]\n",
    "    count = 0\n",
    "    # a while loop until deck comes back to deck_org, perhaps?\n",
    "    # (it is obvious that a long enough sequence of shuffles must\n",
    "    # return to some shuffling. why must it return the the original\n",
    "    # order?)\n",
    "    return count\n",
    "    \n",
    "def test_perfect_shuffle():\n",
    "    ans = [0, 2, 4, 6, 1, 3, 5, 7]\n",
    "    if perfect_shuffle([i for i in range(8)]) != ans:\n",
    "        print(\"broken!\")\n",
    "        return\n",
    "    \n",
    "    # for a deck of 2^i cards, i perfect shuffles return the deck\n",
    "    j = 8\n",
    "    for i in range(3,6):\n",
    "        if n_perfect_shuffle(j)!=i:\n",
    "            print(\"broken!\")\n",
    "            return\n",
    "        j *= 2\n",
    "        \n",
    "    # how many perfects shuffles for an actual deck\n",
    "    if n_perfect_shuffle(52)!=8:\n",
    "        print(\"broken!\")\n",
    "    else:\n",
    "        print(\"correct!\")\n",
    "\n",
    "test_perfect_shuffle()"
   ]
  },
  {
   "cell_type": "code",
   "execution_count": null,
   "metadata": {},
   "outputs": [],
   "source": []
  }
 ],
 "metadata": {
  "kernelspec": {
   "display_name": "Python 3",
   "language": "python",
   "name": "python3"
  },
  "language_info": {
   "codemirror_mode": {
    "name": "ipython",
    "version": 3
   },
   "file_extension": ".py",
   "mimetype": "text/x-python",
   "name": "python",
   "nbconvert_exporter": "python",
   "pygments_lexer": "ipython3",
   "version": "3.8.5"
  }
 },
 "nbformat": 4,
 "nbformat_minor": 4
}
