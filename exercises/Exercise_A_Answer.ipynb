{
 "cells": [
  {
   "cell_type": "markdown",
   "metadata": {},
   "source": [
    "# REU-CFS: Day 1, Ex A.\n",
    "\n",
    "_Burton Rosenberg, University of Miami_\n",
    "\n",
    "_Monday, 17 May 2021_\n",
    "\n",
    "------\n",
    "\n",
    "This is a first program in Python. Examples are given then an exercise.\n",
    "\n",
    "------\n"
   ]
  },
  {
   "cell_type": "markdown",
   "metadata": {},
   "source": [
    "## Example A"
   ]
  },
  {
   "cell_type": "code",
   "execution_count": 1,
   "metadata": {},
   "outputs": [
    {
     "name": "stdout",
     "output_type": "stream",
     "text": [
      "hello world!\n"
     ]
    }
   ],
   "source": [
    "def hello_world():\n",
    "    \"\"\"\n",
    "    this is the classic first program that one learns, hello world!\n",
    "    topics -\n",
    "        def keyword\n",
    "        indented block after the colon (:)\n",
    "        triple quote strings\n",
    "        single quote strings\n",
    "        print statement\n",
    "    \"\"\"\n",
    "    print('hello world!')\n",
    "    \n",
    "hello_world()"
   ]
  },
  {
   "cell_type": "code",
   "execution_count": 2,
   "metadata": {},
   "outputs": [
    {
     "name": "stdout",
     "output_type": "stream",
     "text": [
      "hello REU!\n"
     ]
    }
   ],
   "source": [
    "    \n",
    "def hello_world_personalized(name):\n",
    "    \"\"\"\n",
    "    this demonstrates formal variables \n",
    "    topics -\n",
    "        formal variables\n",
    "        concatentation of strings\n",
    "        double quote strings\n",
    "    \"\"\"\n",
    "    print('hello '+name+\"!\")\n",
    "\n",
    "hello_world_personalized('REU')"
   ]
  },
  {
   "cell_type": "code",
   "execution_count": 5,
   "metadata": {},
   "outputs": [
    {
     "name": "stdout",
     "output_type": "stream",
     "text": [
      "hello 0\n",
      "hello 1\n",
      "hello 2\n"
     ]
    }
   ],
   "source": [
    "def hello_world_repeated(n):\n",
    "    \"\"\"\n",
    "    topics:\n",
    "        the for statment (note indent and :)\n",
    "        the range function\n",
    "        conversions to string\n",
    "    \"\"\"\n",
    "    for i in range(n):\n",
    "        print('hello '+str(i))\n",
    "        \n",
    "hello_world_repeated(3)"
   ]
  },
  {
   "cell_type": "code",
   "execution_count": 8,
   "metadata": {},
   "outputs": [
    {
     "name": "stdout",
     "output_type": "stream",
     "text": [
      "3 is of type <class 'int'>\n",
      "3 is of type <class 'str'>\n"
     ]
    }
   ],
   "source": [
    "# interlude \n",
    "# topics\n",
    "#     the comment character #\n",
    "#     the type statement\n",
    "#     types in general\n",
    "#     \"f\" strings\n",
    "\n",
    "def print_type(s):\n",
    "    print(f'{s} is of type {type(s)}')\n",
    "\n",
    "print_type(3)\n",
    "print_type('3')"
   ]
  },
  {
   "cell_type": "code",
   "execution_count": 20,
   "metadata": {},
   "outputs": [
    {
     "name": "stdout",
     "output_type": "stream",
     "text": [
      "3 is of type <class 'int'>\n",
      "'3' is of type <class 'str'>\n"
     ]
    }
   ],
   "source": [
    "# topics\n",
    "#    if else (note indentation and :) \n",
    "#    function isinstance \n",
    "#    optional arguments to functions\n",
    "#    the optional argument end to the print function\n",
    "\n",
    "def print_type_not_confused(s):\n",
    "    if isinstance(s,type('')):\n",
    "        print(f\"'{s}'\",end='')\n",
    "    else:\n",
    "        print(str(s),end='')\n",
    "    print(f' is of type {type(s)}')\n",
    "    \n",
    "print_type_not_confused(3)\n",
    "print_type_not_confused('3')"
   ]
  },
  {
   "cell_type": "markdown",
   "metadata": {},
   "source": [
    "## Exercise A"
   ]
  },
  {
   "cell_type": "code",
   "execution_count": 27,
   "metadata": {},
   "outputs": [],
   "source": [
    "def boom(n):\n",
    "    \"\"\"\n",
    "    write a program that counts down and then says Boom!\n",
    "    \"\"\"\n",
    "    pass   # topic - body of blocks (introduced by keyword [blah] :) cannot be empty\n",
    "\n",
    "\"\"\"\n",
    "should print:\n",
    "10\n",
    "9\n",
    "8\n",
    "7\n",
    "6\n",
    "5\n",
    "4\n",
    "3\n",
    "2\n",
    "1\n",
    "BOOM!\n",
    "\"\"\"\n",
    "boom(10)"
   ]
  },
  {
   "cell_type": "markdown",
   "metadata": {},
   "source": [
    "## Answer A"
   ]
  },
  {
   "cell_type": "code",
   "execution_count": 28,
   "metadata": {},
   "outputs": [
    {
     "name": "stdout",
     "output_type": "stream",
     "text": [
      "10\n",
      "9\n",
      "8\n",
      "7\n",
      "6\n",
      "5\n",
      "4\n",
      "3\n",
      "2\n",
      "1\n",
      "BOOM!\n"
     ]
    }
   ],
   "source": [
    "def boom(n):\n",
    "    for i in range(n):\n",
    "        print(f'{n-i}')\n",
    "    print('BOOM!')\n",
    "    \n",
    "boom(10)"
   ]
  },
  {
   "cell_type": "code",
   "execution_count": null,
   "metadata": {},
   "outputs": [],
   "source": []
  }
 ],
 "metadata": {
  "kernelspec": {
   "display_name": "Python 3",
   "language": "python",
   "name": "python3"
  },
  "language_info": {
   "codemirror_mode": {
    "name": "ipython",
    "version": 3
   },
   "file_extension": ".py",
   "mimetype": "text/x-python",
   "name": "python",
   "nbconvert_exporter": "python",
   "pygments_lexer": "ipython3",
   "version": "3.8.5"
  }
 },
 "nbformat": 4,
 "nbformat_minor": 4
}
